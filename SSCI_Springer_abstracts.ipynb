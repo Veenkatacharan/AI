{
  "nbformat": 4,
  "nbformat_minor": 0,
  "metadata": {
    "colab": {
      "provenance": [],
      "authorship_tag": "ABX9TyML3CRiox87oGssSzZtNex5",
      "include_colab_link": true
    },
    "kernelspec": {
      "name": "python3",
      "display_name": "Python 3"
    },
    "language_info": {
      "name": "python"
    }
  },
  "cells": [
    {
      "cell_type": "markdown",
      "metadata": {
        "id": "view-in-github",
        "colab_type": "text"
      },
      "source": [
        "<a href=\"https://colab.research.google.com/github/Veenkatacharan/AI/blob/main/SSCI_Springer_abstracts.ipynb\" target=\"_parent\"><img src=\"https://colab.research.google.com/assets/colab-badge.svg\" alt=\"Open In Colab\"/></a>"
      ]
    },
    {
      "cell_type": "code",
      "execution_count": null,
      "metadata": {
        "id": "TAPfeyCy2oR_"
      },
      "outputs": [],
      "source": [
        "import pandas as pd\n",
        "import requests\n",
        "import time\n",
        "from google.colab import files\n",
        "\n",
        "uploaded = files.upload()\n",
        "\n",
        "df = pd.read_csv(next(iter(uploaded)))\n",
        "print(f\"Loaded {len(df)} DOIs\")\n",
        "\n",
        "springer_api_key = \"66c6208c61ec1dad671fbba767941440\"\n",
        "\n",
        "def get_abstract(doi):\n",
        "    url = f\"https://api.springer.com/metadata/json?q=doi:{doi}&api_key={springer_api_key}\"\n",
        "    try:\n",
        "        response = requests.get(url, timeout=10)\n",
        "        response.raise_for_status()\n",
        "        data = response.json()\n",
        "        records = data.get(\"records\", [])\n",
        "        if records:\n",
        "            return records[0].get(\"abstract\")\n",
        "    except:\n",
        "        return None\n",
        "\n",
        "df[\"Abstract\"] = df[\"DOI\"].apply(lambda d: get_abstract(d))\n",
        "\n",
        "output_file = \"springer_with_abstracts.csv\"\n",
        "df.to_csv(output_file, index=False)\n",
        "files.download(output_file)\n",
        "\n",
        "print(\"All abstracts file downloaded.\")\n"
      ]
    }
  ]
}