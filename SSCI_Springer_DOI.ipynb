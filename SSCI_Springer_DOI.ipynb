{
  "nbformat": 4,
  "nbformat_minor": 0,
  "metadata": {
    "colab": {
      "provenance": [],
      "authorship_tag": "ABX9TyNLUv6CKltxAN16s30x6GZ+",
      "include_colab_link": true
    },
    "kernelspec": {
      "name": "python3",
      "display_name": "Python 3"
    },
    "language_info": {
      "name": "python"
    }
  },
  "cells": [
    {
      "cell_type": "markdown",
      "metadata": {
        "id": "view-in-github",
        "colab_type": "text"
      },
      "source": [
        "<a href=\"https://colab.research.google.com/github/Veenkatacharan/AI/blob/main/SSCI_Springer_DOI.ipynb\" target=\"_parent\"><img src=\"https://colab.research.google.com/assets/colab-badge.svg\" alt=\"Open In Colab\"/></a>"
      ]
    },
    {
      "cell_type": "code",
      "execution_count": null,
      "metadata": {
        "id": "YsjsETYDRi_V"
      },
      "outputs": [],
      "source": [
        "import pandas as pd\n",
        "import requests\n",
        "import time\n",
        "\n",
        "input_excel_path = \"SSCI_Springer.xlsx\"  # path to file\n",
        "output_csv_path = \"ssci_springer_doi_list1.csv\"\n",
        "email_for_crossref = \"veenkata2002@gmail.com\"\n",
        "\n",
        "start_year = 1990\n",
        "end_year = 2025\n",
        "max_rows_per_query = 100\n",
        "\n",
        "df = pd.read_excel(input_excel_path)\n",
        "df[\"Preferred_ISSN\"] = df[\"ISSN\"].fillna(df[\"eISSN\"])\n",
        "df = df.dropna(subset=[\"Preferred_ISSN\"]).copy()\n",
        "issn_list = df[\"Preferred_ISSN\"].unique().tolist()\n",
        "\n",
        "def query_crossref_for_issn(issn, year):\n",
        "    url = f\"https://api.crossref.org/journals/{issn}/works\"\n",
        "    params = {\n",
        "        \"filter\": f\"from-pub-date:{year}-01-01,until-pub-date:{year}-12-31\",\n",
        "        \"rows\": max_rows_per_query,\n",
        "        \"mailto\": email_for_crossref\n",
        "    }\n",
        "    response = requests.get(url, params=params, timeout=20)\n",
        "    response.raise_for_status()\n",
        "    return response.json().get(\"message\", {}).get(\"items\", [])\n",
        "\n",
        "results = []\n",
        "for issn in issn_list:\n",
        "    for year in range(start_year, end_year + 1):\n",
        "        try:\n",
        "            print(f\"Querying ISSN {issn} for year {year}...\")\n",
        "            items = query_crossref_for_issn(issn, year)\n",
        "            for item in items:\n",
        "                results.append({\n",
        "                    \"ISSN\": issn,\n",
        "                    \"Year\": year,\n",
        "                    \"DOI\": item.get(\"DOI\", \"\"),\n",
        "                    \"Title\": item.get(\"title\", [\"\"])[0],\n",
        "                    \"Journal\": item.get(\"container-title\", [\"\"])[0],\n",
        "                    \"Publisher\": item.get(\"publisher\", \"\")\n",
        "                })\n",
        "            time.sleep(1)\n",
        "        except Exception as e:\n",
        "            print(f\"Failed for ISSN {issn} ({year}): {e}\")\n",
        "            continue\n",
        "\n",
        "df_out = pd.DataFrame(results)\n",
        "df_out.to_csv(output_csv_path, index=False)\n",
        "print(f\"Saved {len(df_out)} records to {output_csv_path}\")"
      ]
    }
  ]
}